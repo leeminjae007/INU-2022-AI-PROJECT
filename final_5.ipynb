{
  "cells": [
    {
      "cell_type": "markdown",
      "metadata": {
        "id": "view-in-github",
        "colab_type": "text"
      },
      "source": [
        "<a href=\"https://colab.research.google.com/github/INU-IndEng/final_project_1-leeminjae007/blob/main/final_5.ipynb\" target=\"_parent\"><img src=\"https://colab.research.google.com/assets/colab-badge.svg\" alt=\"Open In Colab\"/></a>"
      ]
    },
    {
      "cell_type": "markdown",
      "metadata": {
        "id": "7svEGPN3kTid"
      },
      "source": [
        "# Final Project\n",
        "# “Artificial Intelligence - Wind Power Generation Forecasting”"
      ]
    },
    {
      "cell_type": "markdown",
      "source": [
        "##**Load libraries**"
      ],
      "metadata": {
        "id": "zIb8IC0KLyhX"
      }
    },
    {
      "cell_type": "code",
      "execution_count": null,
      "metadata": {
        "id": "PZOj0pwHkTiq"
      },
      "outputs": [],
      "source": [
        "# Import all your libraries only in this cell\n",
        "import matplotlib.pyplot as plt\n",
        "import numpy as np\n",
        "import pandas as pd\n",
        "import seaborn as sns\n",
        "\n",
        "#Make Numpy printout easier to read\n",
        "np.set_printoptions(precision=3, suppress=True)"
      ]
    },
    {
      "cell_type": "code",
      "source": [
        "#tensorflow libraries\n",
        "import tensorflow as tf\n",
        "from tensorflow import keras\n",
        "from tensorflow.keras import layers\n",
        "\n",
        "import datetime\n",
        "from tensorboard.plugins.hparams import api as hp"
      ],
      "metadata": {
        "id": "PPnddYoblHZ0"
      },
      "execution_count": null,
      "outputs": []
    },
    {
      "cell_type": "code",
      "source": [
        "import pandas as pd\n",
        "import numpy as np\n",
        "import seaborn as sns\n",
        "import matplotlib.pyplot as plt"
      ],
      "metadata": {
        "id": "nFF8zNPpbXbQ"
      },
      "execution_count": null,
      "outputs": []
    },
    {
      "cell_type": "code",
      "source": [
        "from sklearn.model_selection import train_test_split\n",
        "from sklearn.preprocessing import StandardScaler\n",
        "from sklearn.metrics import classification_report"
      ],
      "metadata": {
        "id": "xUi6zGqUbYmC"
      },
      "execution_count": null,
      "outputs": []
    },
    {
      "cell_type": "code",
      "source": [
        "from keras.models import Sequential\n",
        "from keras.layers import Dense, Dropout\n",
        "from tensorflow.keras.optimizers import SGD, Adam, Adadelta, RMSprop\n",
        "from keras.regularizers import l2\n",
        "import keras.backend as k\n",
        "from keras.utils.np_utils import to_categorical\n",
        "from keras.callbacks import EarlyStopping\n",
        "from keras import regularizers\n",
        "from keras.callbacks import ModelCheckpoint"
      ],
      "metadata": {
        "id": "bDhHSjv8bZuS"
      },
      "execution_count": null,
      "outputs": []
    },
    {
      "cell_type": "markdown",
      "metadata": {
        "id": "-YyPKjGkkTis"
      },
      "source": [
        "**Load datasets**"
      ]
    },
    {
      "cell_type": "markdown",
      "source": [
        "##second way"
      ],
      "metadata": {
        "id": "WpJSAgZfr1W6"
      }
    },
    {
      "cell_type": "code",
      "source": [
        "#1 .- Download data from kaggle website\n",
        "#2 .- Load data to drive.google.com\n",
        "# connect goolge drive\n",
        "from google.colab import drive\n",
        "drive.mount('/content/drive')"
      ],
      "metadata": {
        "id": "jmqq_jD5r3g6",
        "outputId": "031c09ea-995d-4ec3-dfc0-51668c0b7384",
        "colab": {
          "base_uri": "https://localhost:8080/"
        }
      },
      "execution_count": null,
      "outputs": [
        {
          "output_type": "stream",
          "name": "stdout",
          "text": [
            "Drive already mounted at /content/drive; to attempt to forcibly remount, call drive.mount(\"/content/drive\", force_remount=True).\n"
          ]
        }
      ]
    },
    {
      "cell_type": "code",
      "source": [
        "#load dataset\n",
        "train_df = pd.read_csv(\"/content/drive/MyDrive/2022 AI/2022aifpc/train.csv\")\n",
        "test_df = pd.read_csv(\"/content/drive/MyDrive/2022 AI/2022aifpc/test.csv\")"
      ],
      "metadata": {
        "id": "-FGDiTCyr3eD"
      },
      "execution_count": null,
      "outputs": []
    },
    {
      "cell_type": "code",
      "source": [
        "#check the dataset\n",
        "dataset = train_df.copy()\n",
        "dataset.tail()"
      ],
      "metadata": {
        "id": "IWmxXD5Rr3bK",
        "outputId": "db72b2ce-82b9-4501-dda1-796f62ba4d51",
        "colab": {
          "base_uri": "https://localhost:8080/"
        }
      },
      "execution_count": null,
      "outputs": [
        {
          "output_type": "execute_result",
          "data": {
            "text/plain": [
              "          ID        Date      Time  Wind_Energy_1  Wind_Energy_2  \\\n",
              "25148  25149  12/31/2020     20:00            0.0            0.3   \n",
              "25149  25150  12/31/2020     21:00            0.0            0.0   \n",
              "25150  25151  12/31/2020     22:00            0.0            0.4   \n",
              "25151  25152  12/31/2020     23:00            0.0            0.0   \n",
              "25152  25153  12/31/2020  24:00:00            0.0            0.0   \n",
              "\n",
              "       Wind_Energy_3  \n",
              "25148            1.6  \n",
              "25149            1.2  \n",
              "25150            2.1  \n",
              "25151            2.2  \n",
              "25152            2.6  "
            ],
            "text/html": [
              "\n",
              "  <div id=\"df-1b4413da-593a-4c48-b80f-0937f88e798a\">\n",
              "    <div class=\"colab-df-container\">\n",
              "      <div>\n",
              "<style scoped>\n",
              "    .dataframe tbody tr th:only-of-type {\n",
              "        vertical-align: middle;\n",
              "    }\n",
              "\n",
              "    .dataframe tbody tr th {\n",
              "        vertical-align: top;\n",
              "    }\n",
              "\n",
              "    .dataframe thead th {\n",
              "        text-align: right;\n",
              "    }\n",
              "</style>\n",
              "<table border=\"1\" class=\"dataframe\">\n",
              "  <thead>\n",
              "    <tr style=\"text-align: right;\">\n",
              "      <th></th>\n",
              "      <th>ID</th>\n",
              "      <th>Date</th>\n",
              "      <th>Time</th>\n",
              "      <th>Wind_Energy_1</th>\n",
              "      <th>Wind_Energy_2</th>\n",
              "      <th>Wind_Energy_3</th>\n",
              "    </tr>\n",
              "  </thead>\n",
              "  <tbody>\n",
              "    <tr>\n",
              "      <th>25148</th>\n",
              "      <td>25149</td>\n",
              "      <td>12/31/2020</td>\n",
              "      <td>20:00</td>\n",
              "      <td>0.0</td>\n",
              "      <td>0.3</td>\n",
              "      <td>1.6</td>\n",
              "    </tr>\n",
              "    <tr>\n",
              "      <th>25149</th>\n",
              "      <td>25150</td>\n",
              "      <td>12/31/2020</td>\n",
              "      <td>21:00</td>\n",
              "      <td>0.0</td>\n",
              "      <td>0.0</td>\n",
              "      <td>1.2</td>\n",
              "    </tr>\n",
              "    <tr>\n",
              "      <th>25150</th>\n",
              "      <td>25151</td>\n",
              "      <td>12/31/2020</td>\n",
              "      <td>22:00</td>\n",
              "      <td>0.0</td>\n",
              "      <td>0.4</td>\n",
              "      <td>2.1</td>\n",
              "    </tr>\n",
              "    <tr>\n",
              "      <th>25151</th>\n",
              "      <td>25152</td>\n",
              "      <td>12/31/2020</td>\n",
              "      <td>23:00</td>\n",
              "      <td>0.0</td>\n",
              "      <td>0.0</td>\n",
              "      <td>2.2</td>\n",
              "    </tr>\n",
              "    <tr>\n",
              "      <th>25152</th>\n",
              "      <td>25153</td>\n",
              "      <td>12/31/2020</td>\n",
              "      <td>24:00:00</td>\n",
              "      <td>0.0</td>\n",
              "      <td>0.0</td>\n",
              "      <td>2.6</td>\n",
              "    </tr>\n",
              "  </tbody>\n",
              "</table>\n",
              "</div>\n",
              "      <button class=\"colab-df-convert\" onclick=\"convertToInteractive('df-1b4413da-593a-4c48-b80f-0937f88e798a')\"\n",
              "              title=\"Convert this dataframe to an interactive table.\"\n",
              "              style=\"display:none;\">\n",
              "        \n",
              "  <svg xmlns=\"http://www.w3.org/2000/svg\" height=\"24px\"viewBox=\"0 0 24 24\"\n",
              "       width=\"24px\">\n",
              "    <path d=\"M0 0h24v24H0V0z\" fill=\"none\"/>\n",
              "    <path d=\"M18.56 5.44l.94 2.06.94-2.06 2.06-.94-2.06-.94-.94-2.06-.94 2.06-2.06.94zm-11 1L8.5 8.5l.94-2.06 2.06-.94-2.06-.94L8.5 2.5l-.94 2.06-2.06.94zm10 10l.94 2.06.94-2.06 2.06-.94-2.06-.94-.94-2.06-.94 2.06-2.06.94z\"/><path d=\"M17.41 7.96l-1.37-1.37c-.4-.4-.92-.59-1.43-.59-.52 0-1.04.2-1.43.59L10.3 9.45l-7.72 7.72c-.78.78-.78 2.05 0 2.83L4 21.41c.39.39.9.59 1.41.59.51 0 1.02-.2 1.41-.59l7.78-7.78 2.81-2.81c.8-.78.8-2.07 0-2.86zM5.41 20L4 18.59l7.72-7.72 1.47 1.35L5.41 20z\"/>\n",
              "  </svg>\n",
              "      </button>\n",
              "      \n",
              "  <style>\n",
              "    .colab-df-container {\n",
              "      display:flex;\n",
              "      flex-wrap:wrap;\n",
              "      gap: 12px;\n",
              "    }\n",
              "\n",
              "    .colab-df-convert {\n",
              "      background-color: #E8F0FE;\n",
              "      border: none;\n",
              "      border-radius: 50%;\n",
              "      cursor: pointer;\n",
              "      display: none;\n",
              "      fill: #1967D2;\n",
              "      height: 32px;\n",
              "      padding: 0 0 0 0;\n",
              "      width: 32px;\n",
              "    }\n",
              "\n",
              "    .colab-df-convert:hover {\n",
              "      background-color: #E2EBFA;\n",
              "      box-shadow: 0px 1px 2px rgba(60, 64, 67, 0.3), 0px 1px 3px 1px rgba(60, 64, 67, 0.15);\n",
              "      fill: #174EA6;\n",
              "    }\n",
              "\n",
              "    [theme=dark] .colab-df-convert {\n",
              "      background-color: #3B4455;\n",
              "      fill: #D2E3FC;\n",
              "    }\n",
              "\n",
              "    [theme=dark] .colab-df-convert:hover {\n",
              "      background-color: #434B5C;\n",
              "      box-shadow: 0px 1px 3px 1px rgba(0, 0, 0, 0.15);\n",
              "      filter: drop-shadow(0px 1px 2px rgba(0, 0, 0, 0.3));\n",
              "      fill: #FFFFFF;\n",
              "    }\n",
              "  </style>\n",
              "\n",
              "      <script>\n",
              "        const buttonEl =\n",
              "          document.querySelector('#df-1b4413da-593a-4c48-b80f-0937f88e798a button.colab-df-convert');\n",
              "        buttonEl.style.display =\n",
              "          google.colab.kernel.accessAllowed ? 'block' : 'none';\n",
              "\n",
              "        async function convertToInteractive(key) {\n",
              "          const element = document.querySelector('#df-1b4413da-593a-4c48-b80f-0937f88e798a');\n",
              "          const dataTable =\n",
              "            await google.colab.kernel.invokeFunction('convertToInteractive',\n",
              "                                                     [key], {});\n",
              "          if (!dataTable) return;\n",
              "\n",
              "          const docLinkHtml = 'Like what you see? Visit the ' +\n",
              "            '<a target=\"_blank\" href=https://colab.research.google.com/notebooks/data_table.ipynb>data table notebook</a>'\n",
              "            + ' to learn more about interactive tables.';\n",
              "          element.innerHTML = '';\n",
              "          dataTable['output_type'] = 'display_data';\n",
              "          await google.colab.output.renderOutput(dataTable, element);\n",
              "          const docLink = document.createElement('div');\n",
              "          docLink.innerHTML = docLinkHtml;\n",
              "          element.appendChild(docLink);\n",
              "        }\n",
              "      </script>\n",
              "    </div>\n",
              "  </div>\n",
              "  "
            ]
          },
          "metadata": {},
          "execution_count": 8
        }
      ]
    },
    {
      "cell_type": "code",
      "source": [
        "dataset.isna().sum()"
      ],
      "metadata": {
        "id": "srV2eiD4wAQX",
        "outputId": "22ba3cf9-1ead-47e9-cdec-dc06aa123c4e",
        "colab": {
          "base_uri": "https://localhost:8080/"
        }
      },
      "execution_count": null,
      "outputs": [
        {
          "output_type": "execute_result",
          "data": {
            "text/plain": [
              "ID               0\n",
              "Date             0\n",
              "Time             0\n",
              "Wind_Energy_1    0\n",
              "Wind_Energy_2    0\n",
              "Wind_Energy_3    0\n",
              "dtype: int64"
            ]
          },
          "metadata": {},
          "execution_count": 9
        }
      ]
    },
    {
      "cell_type": "code",
      "execution_count": null,
      "metadata": {
        "id": "DJH4UeHxkTiv"
      },
      "outputs": [],
      "source": [
        "dataset = dataset.dropna()"
      ]
    },
    {
      "cell_type": "markdown",
      "source": [
        "#### Preprocess data"
      ],
      "metadata": {
        "id": "dV-O3zPIwjKf"
      }
    },
    {
      "cell_type": "code",
      "source": [
        "#split the date to month and days\n",
        "dataset['Month'] = dataset.Date.str.split('/').str[0].astype(float)\n",
        "dataset['Days'] = dataset.Date.str.split('/').str[1].astype(float)\n",
        "dataset['Hour'] = dataset.Time.str.split(':').str[0].astype(float)"
      ],
      "metadata": {
        "id": "Yd-jViVYwi4m"
      },
      "execution_count": null,
      "outputs": []
    },
    {
      "cell_type": "code",
      "source": [
        "#check the dataset\n",
        "dataset.drop(columns = ['Date', 'Time', 'ID'], inplace = True)\n",
        "dataset.tail()"
      ],
      "metadata": {
        "id": "0z2p5wQ2wi1u",
        "outputId": "cab2b2e1-33b8-4b36-bdb8-1fe0e824f047",
        "colab": {
          "base_uri": "https://localhost:8080/"
        }
      },
      "execution_count": null,
      "outputs": [
        {
          "output_type": "execute_result",
          "data": {
            "text/plain": [
              "       Wind_Energy_1  Wind_Energy_2  Wind_Energy_3  Month  Days  Hour\n",
              "25148            0.0            0.3            1.6   12.0  31.0  20.0\n",
              "25149            0.0            0.0            1.2   12.0  31.0  21.0\n",
              "25150            0.0            0.4            2.1   12.0  31.0  22.0\n",
              "25151            0.0            0.0            2.2   12.0  31.0  23.0\n",
              "25152            0.0            0.0            2.6   12.0  31.0  24.0"
            ],
            "text/html": [
              "\n",
              "  <div id=\"df-577f80bf-74b7-4821-8b7e-200e7b1fe453\">\n",
              "    <div class=\"colab-df-container\">\n",
              "      <div>\n",
              "<style scoped>\n",
              "    .dataframe tbody tr th:only-of-type {\n",
              "        vertical-align: middle;\n",
              "    }\n",
              "\n",
              "    .dataframe tbody tr th {\n",
              "        vertical-align: top;\n",
              "    }\n",
              "\n",
              "    .dataframe thead th {\n",
              "        text-align: right;\n",
              "    }\n",
              "</style>\n",
              "<table border=\"1\" class=\"dataframe\">\n",
              "  <thead>\n",
              "    <tr style=\"text-align: right;\">\n",
              "      <th></th>\n",
              "      <th>Wind_Energy_1</th>\n",
              "      <th>Wind_Energy_2</th>\n",
              "      <th>Wind_Energy_3</th>\n",
              "      <th>Month</th>\n",
              "      <th>Days</th>\n",
              "      <th>Hour</th>\n",
              "    </tr>\n",
              "  </thead>\n",
              "  <tbody>\n",
              "    <tr>\n",
              "      <th>25148</th>\n",
              "      <td>0.0</td>\n",
              "      <td>0.3</td>\n",
              "      <td>1.6</td>\n",
              "      <td>12.0</td>\n",
              "      <td>31.0</td>\n",
              "      <td>20.0</td>\n",
              "    </tr>\n",
              "    <tr>\n",
              "      <th>25149</th>\n",
              "      <td>0.0</td>\n",
              "      <td>0.0</td>\n",
              "      <td>1.2</td>\n",
              "      <td>12.0</td>\n",
              "      <td>31.0</td>\n",
              "      <td>21.0</td>\n",
              "    </tr>\n",
              "    <tr>\n",
              "      <th>25150</th>\n",
              "      <td>0.0</td>\n",
              "      <td>0.4</td>\n",
              "      <td>2.1</td>\n",
              "      <td>12.0</td>\n",
              "      <td>31.0</td>\n",
              "      <td>22.0</td>\n",
              "    </tr>\n",
              "    <tr>\n",
              "      <th>25151</th>\n",
              "      <td>0.0</td>\n",
              "      <td>0.0</td>\n",
              "      <td>2.2</td>\n",
              "      <td>12.0</td>\n",
              "      <td>31.0</td>\n",
              "      <td>23.0</td>\n",
              "    </tr>\n",
              "    <tr>\n",
              "      <th>25152</th>\n",
              "      <td>0.0</td>\n",
              "      <td>0.0</td>\n",
              "      <td>2.6</td>\n",
              "      <td>12.0</td>\n",
              "      <td>31.0</td>\n",
              "      <td>24.0</td>\n",
              "    </tr>\n",
              "  </tbody>\n",
              "</table>\n",
              "</div>\n",
              "      <button class=\"colab-df-convert\" onclick=\"convertToInteractive('df-577f80bf-74b7-4821-8b7e-200e7b1fe453')\"\n",
              "              title=\"Convert this dataframe to an interactive table.\"\n",
              "              style=\"display:none;\">\n",
              "        \n",
              "  <svg xmlns=\"http://www.w3.org/2000/svg\" height=\"24px\"viewBox=\"0 0 24 24\"\n",
              "       width=\"24px\">\n",
              "    <path d=\"M0 0h24v24H0V0z\" fill=\"none\"/>\n",
              "    <path d=\"M18.56 5.44l.94 2.06.94-2.06 2.06-.94-2.06-.94-.94-2.06-.94 2.06-2.06.94zm-11 1L8.5 8.5l.94-2.06 2.06-.94-2.06-.94L8.5 2.5l-.94 2.06-2.06.94zm10 10l.94 2.06.94-2.06 2.06-.94-2.06-.94-.94-2.06-.94 2.06-2.06.94z\"/><path d=\"M17.41 7.96l-1.37-1.37c-.4-.4-.92-.59-1.43-.59-.52 0-1.04.2-1.43.59L10.3 9.45l-7.72 7.72c-.78.78-.78 2.05 0 2.83L4 21.41c.39.39.9.59 1.41.59.51 0 1.02-.2 1.41-.59l7.78-7.78 2.81-2.81c.8-.78.8-2.07 0-2.86zM5.41 20L4 18.59l7.72-7.72 1.47 1.35L5.41 20z\"/>\n",
              "  </svg>\n",
              "      </button>\n",
              "      \n",
              "  <style>\n",
              "    .colab-df-container {\n",
              "      display:flex;\n",
              "      flex-wrap:wrap;\n",
              "      gap: 12px;\n",
              "    }\n",
              "\n",
              "    .colab-df-convert {\n",
              "      background-color: #E8F0FE;\n",
              "      border: none;\n",
              "      border-radius: 50%;\n",
              "      cursor: pointer;\n",
              "      display: none;\n",
              "      fill: #1967D2;\n",
              "      height: 32px;\n",
              "      padding: 0 0 0 0;\n",
              "      width: 32px;\n",
              "    }\n",
              "\n",
              "    .colab-df-convert:hover {\n",
              "      background-color: #E2EBFA;\n",
              "      box-shadow: 0px 1px 2px rgba(60, 64, 67, 0.3), 0px 1px 3px 1px rgba(60, 64, 67, 0.15);\n",
              "      fill: #174EA6;\n",
              "    }\n",
              "\n",
              "    [theme=dark] .colab-df-convert {\n",
              "      background-color: #3B4455;\n",
              "      fill: #D2E3FC;\n",
              "    }\n",
              "\n",
              "    [theme=dark] .colab-df-convert:hover {\n",
              "      background-color: #434B5C;\n",
              "      box-shadow: 0px 1px 3px 1px rgba(0, 0, 0, 0.15);\n",
              "      filter: drop-shadow(0px 1px 2px rgba(0, 0, 0, 0.3));\n",
              "      fill: #FFFFFF;\n",
              "    }\n",
              "  </style>\n",
              "\n",
              "      <script>\n",
              "        const buttonEl =\n",
              "          document.querySelector('#df-577f80bf-74b7-4821-8b7e-200e7b1fe453 button.colab-df-convert');\n",
              "        buttonEl.style.display =\n",
              "          google.colab.kernel.accessAllowed ? 'block' : 'none';\n",
              "\n",
              "        async function convertToInteractive(key) {\n",
              "          const element = document.querySelector('#df-577f80bf-74b7-4821-8b7e-200e7b1fe453');\n",
              "          const dataTable =\n",
              "            await google.colab.kernel.invokeFunction('convertToInteractive',\n",
              "                                                     [key], {});\n",
              "          if (!dataTable) return;\n",
              "\n",
              "          const docLinkHtml = 'Like what you see? Visit the ' +\n",
              "            '<a target=\"_blank\" href=https://colab.research.google.com/notebooks/data_table.ipynb>data table notebook</a>'\n",
              "            + ' to learn more about interactive tables.';\n",
              "          element.innerHTML = '';\n",
              "          dataTable['output_type'] = 'display_data';\n",
              "          await google.colab.output.renderOutput(dataTable, element);\n",
              "          const docLink = document.createElement('div');\n",
              "          docLink.innerHTML = docLinkHtml;\n",
              "          element.appendChild(docLink);\n",
              "        }\n",
              "      </script>\n",
              "    </div>\n",
              "  </div>\n",
              "  "
            ]
          },
          "metadata": {},
          "execution_count": 12
        }
      ]
    },
    {
      "cell_type": "code",
      "source": [
        "## Split features\n",
        "train_features = dataset.copy()\n",
        "\n",
        "train_labels = train_features[['Wind_Energy_1','Wind_Energy_2','Wind_Energy_3']].copy()\n",
        "train_features = train_features.drop(['Wind_Energy_1','Wind_Energy_2','Wind_Energy_3'],\n",
        "                                     axis = 1)"
      ],
      "metadata": {
        "id": "-h9ahH4q1cqs"
      },
      "execution_count": null,
      "outputs": []
    },
    {
      "cell_type": "markdown",
      "source": [
        "##Normalization"
      ],
      "metadata": {
        "id": "-68DUeQD0wdl"
      }
    },
    {
      "cell_type": "code",
      "source": [
        "#calcultae mean and std\n",
        "dataset.describe().transpose()[['mean','std']]"
      ],
      "metadata": {
        "id": "0SnrK_-o0yqs",
        "outputId": "88201034-06af-4716-9b9d-5383c47da530",
        "colab": {
          "base_uri": "https://localhost:8080/"
        }
      },
      "execution_count": null,
      "outputs": [
        {
          "output_type": "execute_result",
          "data": {
            "text/plain": [
              "                    mean        std\n",
              "Wind_Energy_1  15.398925  18.931922\n",
              "Wind_Energy_2   8.536261   9.958963\n",
              "Wind_Energy_3  12.075927  11.549401\n",
              "Month           6.758399   3.339400\n",
              "Days           15.834016   8.803905\n",
              "Hour           12.500457   6.922566"
            ],
            "text/html": [
              "\n",
              "  <div id=\"df-633875a7-295f-4319-a504-ab15dca19332\">\n",
              "    <div class=\"colab-df-container\">\n",
              "      <div>\n",
              "<style scoped>\n",
              "    .dataframe tbody tr th:only-of-type {\n",
              "        vertical-align: middle;\n",
              "    }\n",
              "\n",
              "    .dataframe tbody tr th {\n",
              "        vertical-align: top;\n",
              "    }\n",
              "\n",
              "    .dataframe thead th {\n",
              "        text-align: right;\n",
              "    }\n",
              "</style>\n",
              "<table border=\"1\" class=\"dataframe\">\n",
              "  <thead>\n",
              "    <tr style=\"text-align: right;\">\n",
              "      <th></th>\n",
              "      <th>mean</th>\n",
              "      <th>std</th>\n",
              "    </tr>\n",
              "  </thead>\n",
              "  <tbody>\n",
              "    <tr>\n",
              "      <th>Wind_Energy_1</th>\n",
              "      <td>15.398925</td>\n",
              "      <td>18.931922</td>\n",
              "    </tr>\n",
              "    <tr>\n",
              "      <th>Wind_Energy_2</th>\n",
              "      <td>8.536261</td>\n",
              "      <td>9.958963</td>\n",
              "    </tr>\n",
              "    <tr>\n",
              "      <th>Wind_Energy_3</th>\n",
              "      <td>12.075927</td>\n",
              "      <td>11.549401</td>\n",
              "    </tr>\n",
              "    <tr>\n",
              "      <th>Month</th>\n",
              "      <td>6.758399</td>\n",
              "      <td>3.339400</td>\n",
              "    </tr>\n",
              "    <tr>\n",
              "      <th>Days</th>\n",
              "      <td>15.834016</td>\n",
              "      <td>8.803905</td>\n",
              "    </tr>\n",
              "    <tr>\n",
              "      <th>Hour</th>\n",
              "      <td>12.500457</td>\n",
              "      <td>6.922566</td>\n",
              "    </tr>\n",
              "  </tbody>\n",
              "</table>\n",
              "</div>\n",
              "      <button class=\"colab-df-convert\" onclick=\"convertToInteractive('df-633875a7-295f-4319-a504-ab15dca19332')\"\n",
              "              title=\"Convert this dataframe to an interactive table.\"\n",
              "              style=\"display:none;\">\n",
              "        \n",
              "  <svg xmlns=\"http://www.w3.org/2000/svg\" height=\"24px\"viewBox=\"0 0 24 24\"\n",
              "       width=\"24px\">\n",
              "    <path d=\"M0 0h24v24H0V0z\" fill=\"none\"/>\n",
              "    <path d=\"M18.56 5.44l.94 2.06.94-2.06 2.06-.94-2.06-.94-.94-2.06-.94 2.06-2.06.94zm-11 1L8.5 8.5l.94-2.06 2.06-.94-2.06-.94L8.5 2.5l-.94 2.06-2.06.94zm10 10l.94 2.06.94-2.06 2.06-.94-2.06-.94-.94-2.06-.94 2.06-2.06.94z\"/><path d=\"M17.41 7.96l-1.37-1.37c-.4-.4-.92-.59-1.43-.59-.52 0-1.04.2-1.43.59L10.3 9.45l-7.72 7.72c-.78.78-.78 2.05 0 2.83L4 21.41c.39.39.9.59 1.41.59.51 0 1.02-.2 1.41-.59l7.78-7.78 2.81-2.81c.8-.78.8-2.07 0-2.86zM5.41 20L4 18.59l7.72-7.72 1.47 1.35L5.41 20z\"/>\n",
              "  </svg>\n",
              "      </button>\n",
              "      \n",
              "  <style>\n",
              "    .colab-df-container {\n",
              "      display:flex;\n",
              "      flex-wrap:wrap;\n",
              "      gap: 12px;\n",
              "    }\n",
              "\n",
              "    .colab-df-convert {\n",
              "      background-color: #E8F0FE;\n",
              "      border: none;\n",
              "      border-radius: 50%;\n",
              "      cursor: pointer;\n",
              "      display: none;\n",
              "      fill: #1967D2;\n",
              "      height: 32px;\n",
              "      padding: 0 0 0 0;\n",
              "      width: 32px;\n",
              "    }\n",
              "\n",
              "    .colab-df-convert:hover {\n",
              "      background-color: #E2EBFA;\n",
              "      box-shadow: 0px 1px 2px rgba(60, 64, 67, 0.3), 0px 1px 3px 1px rgba(60, 64, 67, 0.15);\n",
              "      fill: #174EA6;\n",
              "    }\n",
              "\n",
              "    [theme=dark] .colab-df-convert {\n",
              "      background-color: #3B4455;\n",
              "      fill: #D2E3FC;\n",
              "    }\n",
              "\n",
              "    [theme=dark] .colab-df-convert:hover {\n",
              "      background-color: #434B5C;\n",
              "      box-shadow: 0px 1px 3px 1px rgba(0, 0, 0, 0.15);\n",
              "      filter: drop-shadow(0px 1px 2px rgba(0, 0, 0, 0.3));\n",
              "      fill: #FFFFFF;\n",
              "    }\n",
              "  </style>\n",
              "\n",
              "      <script>\n",
              "        const buttonEl =\n",
              "          document.querySelector('#df-633875a7-295f-4319-a504-ab15dca19332 button.colab-df-convert');\n",
              "        buttonEl.style.display =\n",
              "          google.colab.kernel.accessAllowed ? 'block' : 'none';\n",
              "\n",
              "        async function convertToInteractive(key) {\n",
              "          const element = document.querySelector('#df-633875a7-295f-4319-a504-ab15dca19332');\n",
              "          const dataTable =\n",
              "            await google.colab.kernel.invokeFunction('convertToInteractive',\n",
              "                                                     [key], {});\n",
              "          if (!dataTable) return;\n",
              "\n",
              "          const docLinkHtml = 'Like what you see? Visit the ' +\n",
              "            '<a target=\"_blank\" href=https://colab.research.google.com/notebooks/data_table.ipynb>data table notebook</a>'\n",
              "            + ' to learn more about interactive tables.';\n",
              "          element.innerHTML = '';\n",
              "          dataTable['output_type'] = 'display_data';\n",
              "          await google.colab.output.renderOutput(dataTable, element);\n",
              "          const docLink = document.createElement('div');\n",
              "          docLink.innerHTML = docLinkHtml;\n",
              "          element.appendChild(docLink);\n",
              "        }\n",
              "      </script>\n",
              "    </div>\n",
              "  </div>\n",
              "  "
            ]
          },
          "metadata": {},
          "execution_count": 14
        }
      ]
    },
    {
      "cell_type": "code",
      "source": [
        "#The first step is to create the norm layer\n",
        "normalizer = tf.keras.layers.Normalization(axis=-1)"
      ],
      "metadata": {
        "id": "8yowxDTowiy-"
      },
      "execution_count": null,
      "outputs": []
    },
    {
      "cell_type": "code",
      "source": [
        "#fit the preprocessing layer\n",
        "normalizer.adapt(np.array(train_features))"
      ],
      "metadata": {
        "id": "S9LcAzAi1cxc"
      },
      "execution_count": null,
      "outputs": []
    },
    {
      "cell_type": "code",
      "source": [
        "print(normalizer.mean.numpy())"
      ],
      "metadata": {
        "id": "jettr-nu28Da",
        "outputId": "5f71ba90-8682-4405-823e-5b5c753415a9",
        "colab": {
          "base_uri": "https://localhost:8080/"
        }
      },
      "execution_count": null,
      "outputs": [
        {
          "output_type": "stream",
          "name": "stdout",
          "text": [
            "[[ 6.758 15.834 12.5  ]]\n"
          ]
        }
      ]
    },
    {
      "cell_type": "code",
      "source": [
        "first = np.array(train_features[:1])\n",
        "\n",
        "with np.printoptions(precision =2, suppress = True):\n",
        "  print('First example: ',first)\n",
        "  print()\n",
        "  print('Normalized: ', normalizer(first).numpy())"
      ],
      "metadata": {
        "id": "tZoscG5C3NMv",
        "outputId": "dde0fe7b-a12b-45ea-b49f-01651354f752",
        "colab": {
          "base_uri": "https://localhost:8080/"
        }
      },
      "execution_count": null,
      "outputs": [
        {
          "output_type": "stream",
          "name": "stdout",
          "text": [
            "First example:  [[ 2. 17. 24.]]\n",
            "\n",
            "Normalized:  [[-1.42  0.13  1.66]]\n"
          ]
        }
      ]
    },
    {
      "cell_type": "markdown",
      "source": [
        "## Linear regression with three variables"
      ],
      "metadata": {
        "id": "OSiq9hGv4TB2"
      }
    },
    {
      "cell_type": "code",
      "execution_count": null,
      "metadata": {
        "id": "_wyovHBRkTi5"
      },
      "outputs": [],
      "source": [
        "#Store three variables as three_var\n",
        "three_var = np.array(train_features[['Hour','Month','Days']])\n",
        "\n",
        "three_var_normalizer = layers.Normalization(input_shape=[3,], axis = None)\n",
        "\n",
        "three_var_normalizer.adapt(three_var)"
      ]
    },
    {
      "cell_type": "code",
      "source": [
        "#Deep learning model\n",
        "three_var_model = tf.keras.Sequential([\n",
        "          #First layer\n",
        "          three_var_normalizer,\n",
        "          #hidden layers\n",
        "          layers.Dense(units = 30, activation = 'relu'),#relu,....dont use sigmoid\n",
        "          layers.Dense(units = 30, activation = 'tanh'),\n",
        "          layers.Dense(units = 30, activation = 'tanh'),\n",
        "           #last layer\n",
        "          layers.Dense(units=3)\n",
        "])\n",
        "three_var_model.summary()"
      ],
      "metadata": {
        "id": "05XpAfqWpSfu",
        "outputId": "e18f57b5-94c3-4496-c43b-94e0d937e483",
        "colab": {
          "base_uri": "https://localhost:8080/"
        }
      },
      "execution_count": null,
      "outputs": [
        {
          "output_type": "stream",
          "name": "stdout",
          "text": [
            "Model: \"sequential\"\n",
            "_________________________________________________________________\n",
            " Layer (type)                Output Shape              Param #   \n",
            "=================================================================\n",
            " normalization_1 (Normalizat  (None, 3)                3         \n",
            " ion)                                                            \n",
            "                                                                 \n",
            " dense (Dense)               (None, 30)                120       \n",
            "                                                                 \n",
            " dense_1 (Dense)             (None, 30)                930       \n",
            "                                                                 \n",
            " dense_2 (Dense)             (None, 30)                930       \n",
            "                                                                 \n",
            " dense_3 (Dense)             (None, 3)                 93        \n",
            "                                                                 \n",
            "=================================================================\n",
            "Total params: 2,076\n",
            "Trainable params: 2,073\n",
            "Non-trainable params: 3\n",
            "_________________________________________________________________\n"
          ]
        }
      ]
    },
    {
      "cell_type": "code",
      "source": [
        "#Compile the model using Adam and Mse(and using metrics)\n",
        "three_var_model.compile(\n",
        "    optimizer = tf.optimizers.Adam(lr=0.0001, beta_1=0.9, beta_2=0.999, epsilon=None, decay=0.0, amsgrad=False),\n",
        "    loss = 'mean_squared_error',\n",
        "    metrics = ['accuracy'],\n",
        ")"
      ],
      "metadata": {
        "id": "MejHnUG992yz",
        "outputId": "1133239e-ac69-42b7-c408-e9a86b359cb7",
        "colab": {
          "base_uri": "https://localhost:8080/"
        }
      },
      "execution_count": null,
      "outputs": [
        {
          "output_type": "stream",
          "name": "stderr",
          "text": [
            "/usr/local/lib/python3.7/dist-packages/keras/optimizer_v2/adam.py:105: UserWarning: The `lr` argument is deprecated, use `learning_rate` instead.\n",
            "  super(Adam, self).__init__(name, **kwargs)\n"
          ]
        }
      ]
    },
    {
      "cell_type": "code",
      "source": [
        "#Adjust hyperparameters\n",
        "log_dir = \"logs/fit/DNN_three\" + datetime.datetime.now().strftime(\"%Y%m%d-%H%M%S\")\n",
        "tensorboard_callback = tf.keras.callbacks.TensorBoard(\n",
        "    log_dir=log_dir, histogram_freq = 1\n",
        ")\n",
        "hparams_callback = hp.KerasCallback(log_dir, {\n",
        "    'num_ANN_units_1': 30,\n",
        "    'ANN_activation' : 'tanh',\n",
        "    'num_ANN_units_2': 30,\n",
        "    'num_ANN_units_3': 30,\n",
        "    'num_linear_units': 3,\n",
        "})"
      ],
      "metadata": {
        "id": "agUDMsPp92va"
      },
      "execution_count": null,
      "outputs": []
    },
    {
      "cell_type": "code",
      "source": [
        "#Use the earlystopping callback to learn the data\n",
        "history = three_var_model.fit(\n",
        "    three_var,\n",
        "    train_labels,\n",
        "    epochs = 100,\n",
        "    verbose = 1,\n",
        "    validation_split = 0.15,\n",
        "    callbacks = [EarlyStopping(\n",
        "        monitor = 'val_accuracy',\n",
        "        mode = 'max',\n",
        "        patience = 10\n",
        "    ),\n",
        "    ModelCheckpoint(filepath='best_model.h5', monitor = 'val_accuracy',\n",
        "                    mode = 'max', save_best_only=True)\n",
        "    ])"
      ],
      "metadata": {
        "id": "LRMhwgBX92sS",
        "outputId": "00259cec-e420-47cf-dc18-c86e0c3b4e31",
        "colab": {
          "base_uri": "https://localhost:8080/"
        }
      },
      "execution_count": null,
      "outputs": [
        {
          "output_type": "stream",
          "name": "stdout",
          "text": [
            "Epoch 1/100\n",
            "669/669 [==============================] - 2s 2ms/step - loss: 139.4021 - accuracy: 0.6030 - val_loss: 162.7695 - val_accuracy: 0.5804\n",
            "Epoch 2/100\n",
            "669/669 [==============================] - 1s 2ms/step - loss: 139.2833 - accuracy: 0.6030 - val_loss: 163.2589 - val_accuracy: 0.5807\n",
            "Epoch 3/100\n",
            "669/669 [==============================] - 1s 2ms/step - loss: 139.2763 - accuracy: 0.6032 - val_loss: 163.1622 - val_accuracy: 0.5812\n",
            "Epoch 4/100\n",
            "669/669 [==============================] - 1s 2ms/step - loss: 139.2734 - accuracy: 0.6037 - val_loss: 163.0139 - val_accuracy: 0.5810\n",
            "Epoch 5/100\n",
            "669/669 [==============================] - 1s 2ms/step - loss: 139.2067 - accuracy: 0.6040 - val_loss: 162.6696 - val_accuracy: 0.5799\n",
            "Epoch 6/100\n",
            "669/669 [==============================] - 1s 2ms/step - loss: 139.1694 - accuracy: 0.6028 - val_loss: 162.8032 - val_accuracy: 0.5802\n",
            "Epoch 7/100\n",
            "669/669 [==============================] - 1s 2ms/step - loss: 139.1233 - accuracy: 0.6029 - val_loss: 162.8760 - val_accuracy: 0.5812\n",
            "Epoch 8/100\n",
            "669/669 [==============================] - 1s 2ms/step - loss: 139.1708 - accuracy: 0.6032 - val_loss: 163.0582 - val_accuracy: 0.5786\n",
            "Epoch 9/100\n",
            "669/669 [==============================] - 1s 2ms/step - loss: 139.0651 - accuracy: 0.6031 - val_loss: 163.3985 - val_accuracy: 0.5815\n",
            "Epoch 10/100\n",
            "669/669 [==============================] - 1s 2ms/step - loss: 139.0865 - accuracy: 0.6040 - val_loss: 163.2384 - val_accuracy: 0.5796\n",
            "Epoch 11/100\n",
            "669/669 [==============================] - 1s 2ms/step - loss: 139.0130 - accuracy: 0.6025 - val_loss: 163.1681 - val_accuracy: 0.5794\n",
            "Epoch 12/100\n",
            "669/669 [==============================] - 1s 2ms/step - loss: 138.9674 - accuracy: 0.6038 - val_loss: 162.8131 - val_accuracy: 0.5804\n",
            "Epoch 13/100\n",
            "669/669 [==============================] - 1s 2ms/step - loss: 138.9615 - accuracy: 0.6030 - val_loss: 162.5723 - val_accuracy: 0.5791\n",
            "Epoch 14/100\n",
            "669/669 [==============================] - 1s 2ms/step - loss: 138.9070 - accuracy: 0.6046 - val_loss: 163.0340 - val_accuracy: 0.5823\n",
            "Epoch 15/100\n",
            "669/669 [==============================] - 1s 2ms/step - loss: 138.9175 - accuracy: 0.6036 - val_loss: 163.0963 - val_accuracy: 0.5786\n",
            "Epoch 16/100\n",
            "669/669 [==============================] - 1s 2ms/step - loss: 138.8617 - accuracy: 0.6040 - val_loss: 163.2417 - val_accuracy: 0.5794\n",
            "Epoch 17/100\n",
            "669/669 [==============================] - 1s 2ms/step - loss: 138.8616 - accuracy: 0.6040 - val_loss: 162.9440 - val_accuracy: 0.5783\n",
            "Epoch 18/100\n",
            "669/669 [==============================] - 1s 2ms/step - loss: 138.7843 - accuracy: 0.6033 - val_loss: 162.7897 - val_accuracy: 0.5812\n",
            "Epoch 19/100\n",
            "669/669 [==============================] - 1s 2ms/step - loss: 138.7735 - accuracy: 0.6035 - val_loss: 163.0505 - val_accuracy: 0.5820\n",
            "Epoch 20/100\n",
            "669/669 [==============================] - 1s 2ms/step - loss: 138.7346 - accuracy: 0.6033 - val_loss: 162.7072 - val_accuracy: 0.5804\n",
            "Epoch 21/100\n",
            "669/669 [==============================] - 1s 2ms/step - loss: 138.7240 - accuracy: 0.6032 - val_loss: 163.1286 - val_accuracy: 0.5791\n",
            "Epoch 22/100\n",
            "669/669 [==============================] - 1s 2ms/step - loss: 138.6930 - accuracy: 0.6042 - val_loss: 162.6981 - val_accuracy: 0.5812\n",
            "Epoch 23/100\n",
            "669/669 [==============================] - 1s 2ms/step - loss: 138.6219 - accuracy: 0.6046 - val_loss: 162.9640 - val_accuracy: 0.5826\n",
            "Epoch 24/100\n",
            "669/669 [==============================] - 1s 2ms/step - loss: 138.6043 - accuracy: 0.6029 - val_loss: 163.0134 - val_accuracy: 0.5807\n",
            "Epoch 25/100\n",
            "669/669 [==============================] - 1s 2ms/step - loss: 138.5949 - accuracy: 0.6042 - val_loss: 163.5359 - val_accuracy: 0.5802\n",
            "Epoch 26/100\n",
            "669/669 [==============================] - 1s 2ms/step - loss: 138.5563 - accuracy: 0.6036 - val_loss: 162.9350 - val_accuracy: 0.5804\n",
            "Epoch 27/100\n",
            "669/669 [==============================] - 1s 2ms/step - loss: 138.5482 - accuracy: 0.6053 - val_loss: 163.2483 - val_accuracy: 0.5807\n",
            "Epoch 28/100\n",
            "669/669 [==============================] - 1s 2ms/step - loss: 138.4932 - accuracy: 0.6034 - val_loss: 163.6236 - val_accuracy: 0.5791\n",
            "Epoch 29/100\n",
            "669/669 [==============================] - 1s 2ms/step - loss: 138.4895 - accuracy: 0.6038 - val_loss: 163.6893 - val_accuracy: 0.5796\n",
            "Epoch 30/100\n",
            "669/669 [==============================] - 1s 2ms/step - loss: 138.4431 - accuracy: 0.6048 - val_loss: 163.3438 - val_accuracy: 0.5799\n",
            "Epoch 31/100\n",
            "669/669 [==============================] - 1s 2ms/step - loss: 138.3783 - accuracy: 0.6039 - val_loss: 163.8740 - val_accuracy: 0.5796\n",
            "Epoch 32/100\n",
            "669/669 [==============================] - 2s 2ms/step - loss: 138.3837 - accuracy: 0.6038 - val_loss: 163.8897 - val_accuracy: 0.5788\n",
            "Epoch 33/100\n",
            "669/669 [==============================] - 1s 2ms/step - loss: 138.3154 - accuracy: 0.6045 - val_loss: 163.9562 - val_accuracy: 0.5791\n"
          ]
        }
      ]
    },
    {
      "cell_type": "code",
      "source": [
        "#Check the accuracy and val_accuracy using plot\n",
        "def plot_loss(history):\n",
        "  plt.plot(history.history['accuracy'], label='acc')\n",
        "  plt.plot(history.history['val_accuracy'],label='val_acc')\n",
        "  plt.xlabel('Epoch')\n",
        "  plt.ylabel('accuracy')\n",
        "  plt.legend()\n",
        "  plt.grid(True)"
      ],
      "metadata": {
        "id": "Iug1f4uT2PNl"
      },
      "execution_count": null,
      "outputs": []
    },
    {
      "cell_type": "code",
      "source": [
        " plot_loss(history)"
      ],
      "metadata": {
        "id": "QsixT9kG2fFa",
        "outputId": "8fb7d1d5-a123-4c71-c969-30f8aaa7d543",
        "colab": {
          "base_uri": "https://localhost:8080/",
          "height": 279
        }
      },
      "execution_count": null,
      "outputs": [
        {
          "output_type": "display_data",
          "data": {
            "text/plain": [
              "<Figure size 432x288 with 1 Axes>"
            ],
            "image/png": "[encoded data removed]"
          },
          "metadata": {
            "needs_background": "light"
          }
        }
      ]
    },
    {
      "cell_type": "code",
      "source": [
        "#Check the loss and val_loss using plot\n",
        "def plot_loss(history):\n",
        "  plt.plot(history.history['loss'], label='acc')\n",
        "  plt.plot(history.history['val_loss'],label='val_loss')\n",
        "  plt.xlabel('Epoch')\n",
        "  plt.ylabel('loss')\n",
        "  plt.legend()\n",
        "  plt.legend(loc='lower left')\n",
        "  plt.grid(True)"
      ],
      "metadata": {
        "id": "JKN6DIJFOEfg"
      },
      "execution_count": null,
      "outputs": []
    },
    {
      "cell_type": "code",
      "source": [
        " plot_loss(history)"
      ],
      "metadata": {
        "id": "wzPqBbirOK1a",
        "colab": {
          "base_uri": "https://localhost:8080/",
          "height": 282
        },
        "outputId": "b3a4b328-1aa6-459e-f410-edaa4db71bed"
      },
      "execution_count": null,
      "outputs": [
        {
          "output_type": "display_data",
          "data": {
            "text/plain": [
              "<Figure size 432x288 with 1 Axes>"
            ],
            "image/png": "[encoded data removed]"
          },
          "metadata": {
            "needs_background": "light"
          }
        }
      ]
    },
    {
      "cell_type": "code",
      "source": [
        "#Check the dataframe\n",
        "hist =pd.DataFrame(history.history)\n",
        "hist['epoch'] = history.epoch\n",
        "hist.tail()"
      ],
      "metadata": {
        "id": "dksnMMu092pq",
        "colab": {
          "base_uri": "https://localhost:8080/",
          "height": 206
        },
        "outputId": "c1abf69e-d1a0-4d76-98d0-d2178a6cca54"
      },
      "execution_count": null,
      "outputs": [
        {
          "output_type": "execute_result",
          "data": {
            "text/plain": [
              "          loss  accuracy    val_loss  val_accuracy  epoch\n",
              "28  138.489471  0.603835  163.689301      0.579645     28\n",
              "29  138.443115  0.604771  163.343842      0.579910     29\n",
              "30  138.378281  0.603882  163.874008      0.579645     30\n",
              "31  138.383713  0.603835  163.889679      0.578850     31\n",
              "32  138.315414  0.604490  163.956207      0.579115     32"
            ],
            "text/html": [
              "\n",
              "  <div id=\"df-5da54bee-5dfc-458e-abf5-f05e66df38d9\">\n",
              "    <div class=\"colab-df-container\">\n",
              "      <div>\n",
              "<style scoped>\n",
              "    .dataframe tbody tr th:only-of-type {\n",
              "        vertical-align: middle;\n",
              "    }\n",
              "\n",
              "    .dataframe tbody tr th {\n",
              "        vertical-align: top;\n",
              "    }\n",
              "\n",
              "    .dataframe thead th {\n",
              "        text-align: right;\n",
              "    }\n",
              "</style>\n",
              "<table border=\"1\" class=\"dataframe\">\n",
              "  <thead>\n",
              "    <tr style=\"text-align: right;\">\n",
              "      <th></th>\n",
              "      <th>loss</th>\n",
              "      <th>accuracy</th>\n",
              "      <th>val_loss</th>\n",
              "      <th>val_accuracy</th>\n",
              "      <th>epoch</th>\n",
              "    </tr>\n",
              "  </thead>\n",
              "  <tbody>\n",
              "    <tr>\n",
              "      <th>28</th>\n",
              "      <td>138.489471</td>\n",
              "      <td>0.603835</td>\n",
              "      <td>163.689301</td>\n",
              "      <td>0.579645</td>\n",
              "      <td>28</td>\n",
              "    </tr>\n",
              "    <tr>\n",
              "      <th>29</th>\n",
              "      <td>138.443115</td>\n",
              "      <td>0.604771</td>\n",
              "      <td>163.343842</td>\n",
              "      <td>0.579910</td>\n",
              "      <td>29</td>\n",
              "    </tr>\n",
              "    <tr>\n",
              "      <th>30</th>\n",
              "      <td>138.378281</td>\n",
              "      <td>0.603882</td>\n",
              "      <td>163.874008</td>\n",
              "      <td>0.579645</td>\n",
              "      <td>30</td>\n",
              "    </tr>\n",
              "    <tr>\n",
              "      <th>31</th>\n",
              "      <td>138.383713</td>\n",
              "      <td>0.603835</td>\n",
              "      <td>163.889679</td>\n",
              "      <td>0.578850</td>\n",
              "      <td>31</td>\n",
              "    </tr>\n",
              "    <tr>\n",
              "      <th>32</th>\n",
              "      <td>138.315414</td>\n",
              "      <td>0.604490</td>\n",
              "      <td>163.956207</td>\n",
              "      <td>0.579115</td>\n",
              "      <td>32</td>\n",
              "    </tr>\n",
              "  </tbody>\n",
              "</table>\n",
              "</div>\n",
              "      <button class=\"colab-df-convert\" onclick=\"convertToInteractive('df-5da54bee-5dfc-458e-abf5-f05e66df38d9')\"\n",
              "              title=\"Convert this dataframe to an interactive table.\"\n",
              "              style=\"display:none;\">\n",
              "        \n",
              "  <svg xmlns=\"http://www.w3.org/2000/svg\" height=\"24px\"viewBox=\"0 0 24 24\"\n",
              "       width=\"24px\">\n",
              "    <path d=\"M0 0h24v24H0V0z\" fill=\"none\"/>\n",
              "    <path d=\"M18.56 5.44l.94 2.06.94-2.06 2.06-.94-2.06-.94-.94-2.06-.94 2.06-2.06.94zm-11 1L8.5 8.5l.94-2.06 2.06-.94-2.06-.94L8.5 2.5l-.94 2.06-2.06.94zm10 10l.94 2.06.94-2.06 2.06-.94-2.06-.94-.94-2.06-.94 2.06-2.06.94z\"/><path d=\"M17.41 7.96l-1.37-1.37c-.4-.4-.92-.59-1.43-.59-.52 0-1.04.2-1.43.59L10.3 9.45l-7.72 7.72c-.78.78-.78 2.05 0 2.83L4 21.41c.39.39.9.59 1.41.59.51 0 1.02-.2 1.41-.59l7.78-7.78 2.81-2.81c.8-.78.8-2.07 0-2.86zM5.41 20L4 18.59l7.72-7.72 1.47 1.35L5.41 20z\"/>\n",
              "  </svg>\n",
              "      </button>\n",
              "      \n",
              "  <style>\n",
              "    .colab-df-container {\n",
              "      display:flex;\n",
              "      flex-wrap:wrap;\n",
              "      gap: 12px;\n",
              "    }\n",
              "\n",
              "    .colab-df-convert {\n",
              "      background-color: #E8F0FE;\n",
              "      border: none;\n",
              "      border-radius: 50%;\n",
              "      cursor: pointer;\n",
              "      display: none;\n",
              "      fill: #1967D2;\n",
              "      height: 32px;\n",
              "      padding: 0 0 0 0;\n",
              "      width: 32px;\n",
              "    }\n",
              "\n",
              "    .colab-df-convert:hover {\n",
              "      background-color: #E2EBFA;\n",
              "      box-shadow: 0px 1px 2px rgba(60, 64, 67, 0.3), 0px 1px 3px 1px rgba(60, 64, 67, 0.15);\n",
              "      fill: #174EA6;\n",
              "    }\n",
              "\n",
              "    [theme=dark] .colab-df-convert {\n",
              "      background-color: #3B4455;\n",
              "      fill: #D2E3FC;\n",
              "    }\n",
              "\n",
              "    [theme=dark] .colab-df-convert:hover {\n",
              "      background-color: #434B5C;\n",
              "      box-shadow: 0px 1px 3px 1px rgba(0, 0, 0, 0.15);\n",
              "      filter: drop-shadow(0px 1px 2px rgba(0, 0, 0, 0.3));\n",
              "      fill: #FFFFFF;\n",
              "    }\n",
              "  </style>\n",
              "\n",
              "      <script>\n",
              "        const buttonEl =\n",
              "          document.querySelector('#df-5da54bee-5dfc-458e-abf5-f05e66df38d9 button.colab-df-convert');\n",
              "        buttonEl.style.display =\n",
              "          google.colab.kernel.accessAllowed ? 'block' : 'none';\n",
              "\n",
              "        async function convertToInteractive(key) {\n",
              "          const element = document.querySelector('#df-5da54bee-5dfc-458e-abf5-f05e66df38d9');\n",
              "          const dataTable =\n",
              "            await google.colab.kernel.invokeFunction('convertToInteractive',\n",
              "                                                     [key], {});\n",
              "          if (!dataTable) return;\n",
              "\n",
              "          const docLinkHtml = 'Like what you see? Visit the ' +\n",
              "            '<a target=\"_blank\" href=https://colab.research.google.com/notebooks/data_table.ipynb>data table notebook</a>'\n",
              "            + ' to learn more about interactive tables.';\n",
              "          element.innerHTML = '';\n",
              "          dataTable['output_type'] = 'display_data';\n",
              "          await google.colab.output.renderOutput(dataTable, element);\n",
              "          const docLink = document.createElement('div');\n",
              "          docLink.innerHTML = docLinkHtml;\n",
              "          element.appendChild(docLink);\n",
              "        }\n",
              "      </script>\n",
              "    </div>\n",
              "  </div>\n",
              "  "
            ]
          },
          "metadata": {},
          "execution_count": 34
        }
      ]
    },
    {
      "cell_type": "code",
      "source": [
        "test_df['Month'] = test_df.Date.str.split('/').str[0].astype(float)\n",
        "test_df['Days'] = test_df.Date.str.split('/').str[1].astype(float)\n",
        "test_df['Hour'] = test_df.Time.str.split(':').str[0].astype(float)\n",
        "test_df = test_df.drop(columns=['Date','Time'])\n",
        "test_df.tail()"
      ],
      "metadata": {
        "id": "8BPX1IuN92ha",
        "colab": {
          "base_uri": "https://localhost:8080/",
          "height": 206
        },
        "outputId": "1248ab7a-6bd7-41f7-f743-fa6743839f8a"
      },
      "execution_count": null,
      "outputs": [
        {
          "output_type": "execute_result",
          "data": {
            "text/plain": [
              "         ID  Month  Days  Hour\n",
              "6979  32133   10.0  18.0  20.0\n",
              "6980  32134   10.0  18.0  21.0\n",
              "6981  32135   10.0  18.0  22.0\n",
              "6982  32136   10.0  18.0  23.0\n",
              "6983  32137   10.0  18.0  24.0"
            ],
            "text/html": [
              "\n",
              "  <div id=\"df-f6afb348-e63c-4c2d-b6ee-ae4a1150cc63\">\n",
              "    <div class=\"colab-df-container\">\n",
              "      <div>\n",
              "<style scoped>\n",
              "    .dataframe tbody tr th:only-of-type {\n",
              "        vertical-align: middle;\n",
              "    }\n",
              "\n",
              "    .dataframe tbody tr th {\n",
              "        vertical-align: top;\n",
              "    }\n",
              "\n",
              "    .dataframe thead th {\n",
              "        text-align: right;\n",
              "    }\n",
              "</style>\n",
              "<table border=\"1\" class=\"dataframe\">\n",
              "  <thead>\n",
              "    <tr style=\"text-align: right;\">\n",
              "      <th></th>\n",
              "      <th>ID</th>\n",
              "      <th>Month</th>\n",
              "      <th>Days</th>\n",
              "      <th>Hour</th>\n",
              "    </tr>\n",
              "  </thead>\n",
              "  <tbody>\n",
              "    <tr>\n",
              "      <th>6979</th>\n",
              "      <td>32133</td>\n",
              "      <td>10.0</td>\n",
              "      <td>18.0</td>\n",
              "      <td>20.0</td>\n",
              "    </tr>\n",
              "    <tr>\n",
              "      <th>6980</th>\n",
              "      <td>32134</td>\n",
              "      <td>10.0</td>\n",
              "      <td>18.0</td>\n",
              "      <td>21.0</td>\n",
              "    </tr>\n",
              "    <tr>\n",
              "      <th>6981</th>\n",
              "      <td>32135</td>\n",
              "      <td>10.0</td>\n",
              "      <td>18.0</td>\n",
              "      <td>22.0</td>\n",
              "    </tr>\n",
              "    <tr>\n",
              "      <th>6982</th>\n",
              "      <td>32136</td>\n",
              "      <td>10.0</td>\n",
              "      <td>18.0</td>\n",
              "      <td>23.0</td>\n",
              "    </tr>\n",
              "    <tr>\n",
              "      <th>6983</th>\n",
              "      <td>32137</td>\n",
              "      <td>10.0</td>\n",
              "      <td>18.0</td>\n",
              "      <td>24.0</td>\n",
              "    </tr>\n",
              "  </tbody>\n",
              "</table>\n",
              "</div>\n",
              "      <button class=\"colab-df-convert\" onclick=\"convertToInteractive('df-f6afb348-e63c-4c2d-b6ee-ae4a1150cc63')\"\n",
              "              title=\"Convert this dataframe to an interactive table.\"\n",
              "              style=\"display:none;\">\n",
              "        \n",
              "  <svg xmlns=\"http://www.w3.org/2000/svg\" height=\"24px\"viewBox=\"0 0 24 24\"\n",
              "       width=\"24px\">\n",
              "    <path d=\"M0 0h24v24H0V0z\" fill=\"none\"/>\n",
              "    <path d=\"M18.56 5.44l.94 2.06.94-2.06 2.06-.94-2.06-.94-.94-2.06-.94 2.06-2.06.94zm-11 1L8.5 8.5l.94-2.06 2.06-.94-2.06-.94L8.5 2.5l-.94 2.06-2.06.94zm10 10l.94 2.06.94-2.06 2.06-.94-2.06-.94-.94-2.06-.94 2.06-2.06.94z\"/><path d=\"M17.41 7.96l-1.37-1.37c-.4-.4-.92-.59-1.43-.59-.52 0-1.04.2-1.43.59L10.3 9.45l-7.72 7.72c-.78.78-.78 2.05 0 2.83L4 21.41c.39.39.9.59 1.41.59.51 0 1.02-.2 1.41-.59l7.78-7.78 2.81-2.81c.8-.78.8-2.07 0-2.86zM5.41 20L4 18.59l7.72-7.72 1.47 1.35L5.41 20z\"/>\n",
              "  </svg>\n",
              "      </button>\n",
              "      \n",
              "  <style>\n",
              "    .colab-df-container {\n",
              "      display:flex;\n",
              "      flex-wrap:wrap;\n",
              "      gap: 12px;\n",
              "    }\n",
              "\n",
              "    .colab-df-convert {\n",
              "      background-color: #E8F0FE;\n",
              "      border: none;\n",
              "      border-radius: 50%;\n",
              "      cursor: pointer;\n",
              "      display: none;\n",
              "      fill: #1967D2;\n",
              "      height: 32px;\n",
              "      padding: 0 0 0 0;\n",
              "      width: 32px;\n",
              "    }\n",
              "\n",
              "    .colab-df-convert:hover {\n",
              "      background-color: #E2EBFA;\n",
              "      box-shadow: 0px 1px 2px rgba(60, 64, 67, 0.3), 0px 1px 3px 1px rgba(60, 64, 67, 0.15);\n",
              "      fill: #174EA6;\n",
              "    }\n",
              "\n",
              "    [theme=dark] .colab-df-convert {\n",
              "      background-color: #3B4455;\n",
              "      fill: #D2E3FC;\n",
              "    }\n",
              "\n",
              "    [theme=dark] .colab-df-convert:hover {\n",
              "      background-color: #434B5C;\n",
              "      box-shadow: 0px 1px 3px 1px rgba(0, 0, 0, 0.15);\n",
              "      filter: drop-shadow(0px 1px 2px rgba(0, 0, 0, 0.3));\n",
              "      fill: #FFFFFF;\n",
              "    }\n",
              "  </style>\n",
              "\n",
              "      <script>\n",
              "        const buttonEl =\n",
              "          document.querySelector('#df-f6afb348-e63c-4c2d-b6ee-ae4a1150cc63 button.colab-df-convert');\n",
              "        buttonEl.style.display =\n",
              "          google.colab.kernel.accessAllowed ? 'block' : 'none';\n",
              "\n",
              "        async function convertToInteractive(key) {\n",
              "          const element = document.querySelector('#df-f6afb348-e63c-4c2d-b6ee-ae4a1150cc63');\n",
              "          const dataTable =\n",
              "            await google.colab.kernel.invokeFunction('convertToInteractive',\n",
              "                                                     [key], {});\n",
              "          if (!dataTable) return;\n",
              "\n",
              "          const docLinkHtml = 'Like what you see? Visit the ' +\n",
              "            '<a target=\"_blank\" href=https://colab.research.google.com/notebooks/data_table.ipynb>data table notebook</a>'\n",
              "            + ' to learn more about interactive tables.';\n",
              "          element.innerHTML = '';\n",
              "          dataTable['output_type'] = 'display_data';\n",
              "          await google.colab.output.renderOutput(dataTable, element);\n",
              "          const docLink = document.createElement('div');\n",
              "          docLink.innerHTML = docLinkHtml;\n",
              "          element.appendChild(docLink);\n",
              "        }\n",
              "      </script>\n",
              "    </div>\n",
              "  </div>\n",
              "  "
            ]
          },
          "metadata": {},
          "execution_count": 35
        }
      ]
    },
    {
      "cell_type": "code",
      "source": [
        "#The learned test_df is stored in the DNN_three_df.\n",
        "test_features = test_df.copy()\n",
        "DNN_three_df = three_var_model.predict(test_features[['Hour','Month','Days']])"
      ],
      "metadata": {
        "id": "pX8At7r_Eo12"
      },
      "execution_count": null,
      "outputs": []
    },
    {
      "cell_type": "code",
      "source": [
        "# The path of the csv file to store the deep learning results is specified and generated.\n",
        "result = pd.DataFrame(DNN_three_df,\n",
        "                      columns = ['Wind_Energy_1','Wind_Energy_2','Wind_Energy_3'],\n",
        "                      index = test_df['ID'])\n",
        "result.to_csv('/content/drive/MyDrive/2022 AI/2022aifpc/201801361-1.csv')"
      ],
      "metadata": {
        "id": "ORB_Qjx9EozG"
      },
      "execution_count": null,
      "outputs": []
    },
    {
      "cell_type": "code",
      "execution_count": null,
      "metadata": {
        "id": "frPBBHMnkTi5"
      },
      "outputs": [],
      "source": [
        ""
      ]
    }
  ],
  "metadata": {
    "kernelspec": {
      "display_name": "Python 3 (ipykernel)",
      "language": "python",
      "name": "python3"
    },
    "language_info": {
      "codemirror_mode": {
        "name": "ipython",
        "version": 3
      },
      "file_extension": ".py",
      "mimetype": "text/x-python",
      "name": "python",
      "nbconvert_exporter": "python",
      "pygments_lexer": "ipython3",
      "version": "3.7.11"
    },
    "colab": {
      "name": "3등...",
      "provenance": [],
      "collapsed_sections": [
        "zIb8IC0KLyhX",
        "WpJSAgZfr1W6",
        "-68DUeQD0wdl"
      ],
      "include_colab_link": true
    }
  },
  "nbformat": 4,
  "nbformat_minor": 0
}